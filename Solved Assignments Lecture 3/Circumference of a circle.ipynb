{
 "cells": [
  {
   "cell_type": "code",
   "execution_count": 1,
   "metadata": {},
   "outputs": [
    {
     "name": "stdout",
     "output_type": "stream",
     "text": [
      "Enter a number of diameter\n",
      "5\n",
      "The Circumference of a circle is: 31.41592653589793\n"
     ]
    }
   ],
   "source": [
    "# D Variable abbriviation of Diameter\n",
    "D=float(input(\"Enter a number of diameter\\n\"))\n",
    "#The irrational number 'pi' in mathematics\n",
    "Pi=3.1415926535897932384626433832795\n",
    "Circumference=2*Pi*D\n",
    "print(f\"The Circumference of a circle is: {Circumference}\")"
   ]
  },
  {
   "cell_type": "code",
   "execution_count": null,
   "metadata": {},
   "outputs": [],
   "source": []
  }
 ],
 "metadata": {
  "kernelspec": {
   "display_name": "Python 3",
   "language": "python",
   "name": "python3"
  },
  "language_info": {
   "codemirror_mode": {
    "name": "ipython",
    "version": 3
   },
   "file_extension": ".py",
   "mimetype": "text/x-python",
   "name": "python",
   "nbconvert_exporter": "python",
   "pygments_lexer": "ipython3",
   "version": "3.7.6"
  }
 },
 "nbformat": 4,
 "nbformat_minor": 4
}
