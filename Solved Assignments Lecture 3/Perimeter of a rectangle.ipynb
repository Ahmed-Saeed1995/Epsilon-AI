{
 "cells": [
  {
   "cell_type": "code",
   "execution_count": 26,
   "metadata": {},
   "outputs": [
    {
     "name": "stdout",
     "output_type": "stream",
     "text": [
      "Enter an amount of number for width of a rectangle:\t10\n",
      "Enter an amount of number for width of a rectangle:\t5\n",
      "The amount of Circumference\\Perimeter of a rectangle is: 30\n"
     ]
    }
   ],
   "source": [
    "#Calculation of circumference\\Perimeter of a rectangle\n",
    "Length=int(input(\"Enter an amount of number for width of a rectangle:\\t\"))\n",
    "Width=int(input(\"Enter an amount of number for width of a rectangle:\\t\"))\n",
    "#Formula P=2*Length+2*Width\n",
    "perimeter=2*(Length+Width)\n",
    "print(f\"The amount of Circumference\\Perimeter of a rectangle is: {perimeter}\")"
   ]
  },
  {
   "cell_type": "code",
   "execution_count": null,
   "metadata": {},
   "outputs": [],
   "source": []
  }
 ],
 "metadata": {
  "kernelspec": {
   "display_name": "Python 3",
   "language": "python",
   "name": "python3"
  },
  "language_info": {
   "codemirror_mode": {
    "name": "ipython",
    "version": 3
   },
   "file_extension": ".py",
   "mimetype": "text/x-python",
   "name": "python",
   "nbconvert_exporter": "python",
   "pygments_lexer": "ipython3",
   "version": "3.7.6"
  }
 },
 "nbformat": 4,
 "nbformat_minor": 4
}
