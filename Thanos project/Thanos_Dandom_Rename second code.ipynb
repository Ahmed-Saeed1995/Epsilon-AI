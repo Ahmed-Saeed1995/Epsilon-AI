{
 "cells": [
  {
   "cell_type": "code",
   "execution_count": 1,
   "metadata": {},
   "outputs": [],
   "source": [
    "import os,random"
   ]
  },
  {
   "cell_type": "code",
   "execution_count": 2,
   "metadata": {},
   "outputs": [],
   "source": [
    "def read_file(path):\n",
    "    file=os.listdir(path)\n",
    "    return file"
   ]
  },
  {
   "cell_type": "code",
   "execution_count": 16,
   "metadata": {},
   "outputs": [],
   "source": [
    "def rename_image(image):\n",
    "    #Assign a List from 0 to length of image to chose number randomly\n",
    "    List=[index for index in range(0,len(read_file(\"universe\"))+1)]\n",
    "    #Input the length of image to excute code related to the length\n",
    "    #While loop to excute all code according to the how many image less than its length\n",
    "    while image<=len(List):\n",
    "        #Chose number randomly\n",
    "        rand_num=random.choice(List)\n",
    "        #Source of file relative path\n",
    "        get=os.chdir(r\"C:\\Users\\Ahmed\\Downloads\\universe\")\n",
    "        for old_name in os.listdir(get):\n",
    "            #Checking for random number is in list or not\n",
    "            if rand_num in List:\n",
    "                #Assign variable to make new name.png\n",
    "                new_name=\"New-Cover-{}.png\".format(rand_num)\n",
    "                #printing the result to check the code is correct\n",
    "                print(\"rand_num\",rand_num)\n",
    "                #remove the the number chosen in the list!\n",
    "                List.remove(rand_num)\n",
    "                #checking if the old name is the same as new name, and if not....\n",
    "                if old_name != new_name:\n",
    "                    #Rename file\n",
    "                    os.rename(old_name,new_name)\n",
    "                else:\n",
    "                    continue"
   ]
  }
 ],
 "metadata": {
  "kernelspec": {
   "display_name": "Python 3",
   "language": "python",
   "name": "python3"
  },
  "language_info": {
   "codemirror_mode": {
    "name": "ipython",
    "version": 3
   },
   "file_extension": ".py",
   "mimetype": "text/x-python",
   "name": "python",
   "nbconvert_exporter": "python",
   "pygments_lexer": "ipython3",
   "version": "3.7.6"
  }
 },
 "nbformat": 4,
 "nbformat_minor": 4
}
