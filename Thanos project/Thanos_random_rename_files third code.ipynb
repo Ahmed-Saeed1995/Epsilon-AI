{
 "cells": [
  {
   "cell_type": "code",
   "execution_count": 35,
   "metadata": {},
   "outputs": [],
   "source": [
    "import random,os"
   ]
  },
  {
   "cell_type": "code",
   "execution_count": 36,
   "metadata": {},
   "outputs": [],
   "source": [
    "def get_images(path):\n",
    "    files=os.listdir(path)\n",
    "    return files"
   ]
  },
  {
   "cell_type": "code",
   "execution_count": 37,
   "metadata": {},
   "outputs": [],
   "source": [
    "letters= [\"A\",\"a\",\"b\",\"B\",\"C\",\"c\",\"D\",\"d\",\"E\",\"e\",\"F\",\"f\",\"R\",\"r\",\"T\",\"t\",\"S\",\"s\",\"y\",\"Y\",\"I\",\"i\",\"p\",\"P\",\"L\",\"l\",\"K\",\"k\",\"v\",\"V\",\"Z\",\"z\",\"X\",\"x\",\"W\",\"w\",\"Q\",\"q\",\"G\",\"g\",\"h\",\"H\",\"J\",\"j\"]"
   ]
  },
  {
   "cell_type": "code",
   "execution_count": 52,
   "metadata": {},
   "outputs": [],
   "source": [
    "images = get_images(\"universe\")\n",
    "random.shuffle(images)\n",
    "for i in images:\n",
    "    words = ''.join(random.choice(letters) for i in range(3))\n",
    "    os.rename(f\"universe/{i}\",f\"universe/{words}.png\")"
   ]
  }
 ],
 "metadata": {
  "kernelspec": {
   "display_name": "Python 3",
   "language": "python",
   "name": "python3"
  },
  "language_info": {
   "codemirror_mode": {
    "name": "ipython",
    "version": 3
   },
   "file_extension": ".py",
   "mimetype": "text/x-python",
   "name": "python",
   "nbconvert_exporter": "python",
   "pygments_lexer": "ipython3",
   "version": "3.7.6"
  }
 },
 "nbformat": 4,
 "nbformat_minor": 4
}
